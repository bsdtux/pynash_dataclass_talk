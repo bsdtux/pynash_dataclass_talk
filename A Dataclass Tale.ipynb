{
 "cells": [
  {
   "cell_type": "code",
   "execution_count": null,
   "metadata": {},
   "outputs": [],
   "source": [
    "aragon_list = ['Aragorn II Elessar', 'Human', 87, ['1 Bow', '10 Some Arrows', '10 gold'], 'Andúril']\n",
    "frodo_list = [33,'Hobbit', ['1 gold potatoe'], 'Sting','Frodo Baggins']"
   ]
  },
  {
   "cell_type": "code",
   "execution_count": null,
   "metadata": {},
   "outputs": [],
   "source": [
    "def hero_aslist(hero):\n",
    "    return {\n",
    "        'name': hero[0],\n",
    "        'species': \n",
    "    }\n",
    "    print(f'')\n",
    "    print(f'Hero species: {hero[1]}')\n",
    "    print(f'Hero age: {hero[2]}')\n",
    "    print(f'Hero\\'s Inventory: {hero[3]}')\n",
    "    print(f'Hero\\'s Weapon: {hero[4]}')"
   ]
  },
  {
   "cell_type": "code",
   "execution_count": null,
   "metadata": {},
   "outputs": [],
   "source": [
    "describe_hero_aslist(aragon_list)\n",
    "print()\n",
    "describe_hero_aslist(frodo_list)"
   ]
  },
  {
   "cell_type": "code",
   "execution_count": null,
   "metadata": {},
   "outputs": [],
   "source": [
    "def fight_simulation(hero: dict):\n",
    "    smelly_orc = {''}"
   ]
  },
  {
   "cell_type": "code",
   "execution_count": null,
   "metadata": {},
   "outputs": [],
   "source": [
    "aragon_dict = {\n",
    "    'name': 'Aragorn II Elessar',\n",
    "    'species': 'Human',\n",
    "    'age': 87,\n",
    "    'inventory': ['1 Bow', '10 Some Arrows', '10 gold'],\n",
    "    'weapon': 'Andúril'\n",
    "}\n",
    "\n",
    "frodo_dict = {\n",
    "    'name': 'Frodo Baggins',\n",
    "    'species': 'Hobbit',\n",
    "    'age': 33,\n",
    "    'inventory': ['1 gold potatoe'],\n",
    "    'weapon': 'Sting'\n",
    "}"
   ]
  },
  {
   "cell_type": "code",
   "execution_count": null,
   "metadata": {},
   "outputs": [],
   "source": [
    "def describe_hero_asdict(hero):\n",
    "    print(f'Hero name: {hero[\"name\"]}')\n",
    "    print(f'Hero species: {hero[\"species\"]}')\n",
    "    print(f'Hero age: {hero[\"age\"]}')\n",
    "    print(f'Hero\\'s Inventory: {hero[\"inventory\"]}')\n",
    "    print(f'Hero\\'s Weapon: {hero[\"weapon\"]}')"
   ]
  },
  {
   "cell_type": "code",
   "execution_count": null,
   "metadata": {},
   "outputs": [],
   "source": [
    "describe_hero_asdict(aragon_dict)\n",
    "print()\n",
    "describe_hero_asdict(frodo_dict)"
   ]
  },
  {
   "cell_type": "code",
   "execution_count": null,
   "metadata": {},
   "outputs": [],
   "source": [
    "from collections import namedtuple\n",
    "Hero = namedtuple('Hero', ['name', 'species', 'age', 'inventory', 'weapon'])\n",
    "aragon_nt = Hero('Aragorn II Elessar', 'Human', 87, ['1 Bow', '10 Some Arrows', '10 gold'], 'Andúril')\n",
    "frodo_nt = Hero('Frodo Baggins', 'Hobbit', 33, ['1 gold potatoe'], 'Sting')"
   ]
  },
  {
   "cell_type": "code",
   "execution_count": null,
   "metadata": {},
   "outputs": [],
   "source": [
    "def describe_hero_asobject(hero):\n",
    "    print(f'Hero name: {hero.name}')\n",
    "    print(f'Hero species: {hero.species}')\n",
    "    print(f'Hero age: {hero.age}')\n",
    "    print(f'Hero\\'s Inventory: {hero.inventory}')\n",
    "    print(f'Hero\\'s Weapon: {hero.weapon}')"
   ]
  },
  {
   "cell_type": "code",
   "execution_count": null,
   "metadata": {},
   "outputs": [],
   "source": [
    "describe_hero_asobject(aragon_nt)\n",
    "print()\n",
    "describe_hero_asobject(frodo_nt)"
   ]
  },
  {
   "cell_type": "code",
   "execution_count": null,
   "metadata": {},
   "outputs": [],
   "source": [
    "def attack(hero):\n",
    "    print(f\"{hero.name} has used the weapon {hero.weapon} to attack a smelly orc!\")"
   ]
  },
  {
   "cell_type": "code",
   "execution_count": null,
   "metadata": {},
   "outputs": [],
   "source": [
    "attack(aragon_nt)\n",
    "print()\n",
    "attack(frodo_nt)"
   ]
  },
  {
   "cell_type": "code",
   "execution_count": null,
   "metadata": {},
   "outputs": [],
   "source": [
    "Point3d = namedtuple('Point3d', ['x_axis', 'y_axis', 'z_axis'])\n",
    "Date = namedtuple('Date', ['year', 'month', 'day'])\n",
    "Point3d(2017, 1, 1) == Date(2017, 1, 1)"
   ]
  },
  {
   "cell_type": "code",
   "execution_count": null,
   "metadata": {},
   "outputs": [],
   "source": [
    "class HeroClass:\n",
    "    def __init__(self, name, species, age, inventory, weapon):\n",
    "        self.name = name\n",
    "        self.species = species\n",
    "        self.age = age\n",
    "        self.inventory = inventory\n",
    "        self.weapon = weapon\n",
    "    \n",
    "    def __repr__(self):\n",
    "        str(self)\n",
    "    \n",
    "    def __str__(self):\n",
    "        return(f'HeroClass - {self.name}, {self.species}, {self.age}, '\n",
    "              f'{self.inventory}, {self.weapon}')\n",
    "    \n",
    "    def attack(self):\n",
    "        print(f\"{self.name} has used the weapon {self.weapon} to attack a smelly orc!\")"
   ]
  },
  {
   "cell_type": "code",
   "execution_count": null,
   "metadata": {},
   "outputs": [],
   "source": [
    "aragon_class = HeroClass(\n",
    "    'Aragorn II Elessar', 'Human', 87, \n",
    "    ['1 Bow', '10 Some Arrows', '10 gold'], 'Andúril')\n",
    "frodo_class = HeroClass('Frodo Baggins', 'Hobbit', 33, ['1 gold potatoe'], 'Sting')\n",
    "\n",
    "describe_hero_asobject(aragon_class)\n",
    "print()\n",
    "describe_hero_asobject(frodo_class)\n",
    "print()\n",
    "\n",
    "print(aragon_class)\n",
    "print(frodo_class)"
   ]
  },
  {
   "cell_type": "code",
   "execution_count": null,
   "metadata": {},
   "outputs": [],
   "source": [
    "aragon_class.attack()\n",
    "print()\n",
    "frodo_class.attack()"
   ]
  },
  {
   "cell_type": "code",
   "execution_count": null,
   "metadata": {},
   "outputs": [],
   "source": [
    "from dataclasses import dataclass, field\n",
    "from typing import List\n",
    "\n",
    "\n",
    "@dataclass\n",
    "class HeroDataClass:\n",
    "    \"\"\"Class to represent a Council of Elrond Hero\"\"\"\n",
    "    name: str = ''\n",
    "    species: str = ''\n",
    "    age: int = 0\n",
    "    inventory: List = field(default_factory=list)\n",
    "    weapon: str = ''\n",
    "    \n",
    "    def attack(self):\n",
    "        print(f\"{self.name} has used the weapon {self.weapon} to attack a smelly orc!\")\n",
    "        "
   ]
  },
  {
   "cell_type": "code",
   "execution_count": null,
   "metadata": {},
   "outputs": [],
   "source": [
    "aragon_hdc = HeroDataClass(\n",
    "    'Aragorn II Elessar', 'Human', 87, \n",
    "    ['1 Bow', '10 Some Arrows', '10 gold'], 'Andúril')\n",
    "\n",
    "frodo_hdc = HeroDataClass('Frodo Baggins', 'Hobbit', 33, ['1 gold potatoe'], 'Sting')\n",
    "\n",
    "aragon_hdc.attack()\n",
    "frodo_hdc.attack()\n",
    "\n",
    "print(aragon_hdc)\n",
    "print(frodo_hdc)\n",
    "\n",
    "print(aragon_hdc == frodo_hdc)\n",
    "print(aragon_hdc != frodo_hdc)"
   ]
  },
  {
   "cell_type": "code",
   "execution_count": null,
   "metadata": {},
   "outputs": [],
   "source": [
    "from decimal import Decimal\n",
    "\n",
    "@dataclass \n",
    "class Item:\n",
    "    \"\"\"Class to represent an Item\"\"\"\n",
    "    name: str = ''\n",
    "    weight: float = 0.0\n",
    "    value: Decimal = 0.00\n",
    "\n",
    "@dataclass\n",
    "class Weapon(Item):\n",
    "    \"\"\"Class to represent a weapon\"\"\"\n",
    "    dmg: int = 0\n",
    "\n",
    "@dataclass\n",
    "class Inventory:\n",
    "    \"\"\"Class to represent a Hero's Inventory\"\"\"\n",
    "    pouch: List[Item] = field(default_factory=list)\n",
    "\n",
    "@dataclass\n",
    "class HeroEntitiy:\n",
    "    \"\"\"Class to represent a Council of Elrond Hero\"\"\"\n",
    "    name: str = ''\n",
    "    species: str = ''\n",
    "    age: int = 0\n",
    "    inventory: Inventory = field(default_factory=Inventory)\n",
    "    weapon: Weapon = Weapon()\n",
    "    \n",
    "    def attack(self):\n",
    "        print(f\"{self.name} has used their {self.weapon.weight} weapon {self.weapon.name} to attack a smelly orc! dealing {self.weapon.dmg}\")\n",
    "    \n",
    "    def show_inventory(self):\n",
    "        for item in self.inventory.pouch:\n",
    "            print(item)"
   ]
  },
  {
   "cell_type": "code",
   "execution_count": null,
   "metadata": {},
   "outputs": [],
   "source": [
    "inventory = Inventory()\n",
    "inventory.pouch.append(Item('gold', 0.00, 100.00))\n",
    "inventory.pouch.append(Item('Golden Russet Potatoe', 0.05, 0.00))\n",
    "\n",
    "# Apparently Amazon was trying a store out in Middle Earth\n",
    "weapon = Weapon('Sting', 1.01, 129.99)\n",
    "\n",
    "frodo_he = HeroEntitiy('Frodo Baggins', 'Hobbit', 33, inventory, weapon)\n",
    "print(frodo_he)\n",
    "frodo_he.attack()\n",
    "print()\n",
    "\n",
    "print('Frodo Beats the Orc and discovered 2 gold coins')\n",
    "frodo_he.inventory.pouch[0].value += 2.00\n",
    "frodo_he.show_inventory()"
   ]
  },
  {
   "cell_type": "code",
   "execution_count": null,
   "metadata": {},
   "outputs": [],
   "source": [
    "from dataclasses import asdict, astuple"
   ]
  },
  {
   "cell_type": "code",
   "execution_count": null,
   "metadata": {},
   "outputs": [],
   "source": [
    "astuple(frodo_he)"
   ]
  },
  {
   "cell_type": "code",
   "execution_count": null,
   "metadata": {},
   "outputs": [],
   "source": [
    "asdict(frodo_he)"
   ]
  },
  {
   "cell_type": "code",
   "execution_count": null,
   "metadata": {},
   "outputs": [],
   "source": []
  }
 ],
 "metadata": {
  "kernelspec": {
   "display_name": "Python 3",
   "language": "python",
   "name": "python3"
  },
  "language_info": {
   "codemirror_mode": {
    "name": "ipython",
    "version": 3
   },
   "file_extension": ".py",
   "mimetype": "text/x-python",
   "name": "python",
   "nbconvert_exporter": "python",
   "pygments_lexer": "ipython3",
   "version": "3.7.1"
  }
 },
 "nbformat": 4,
 "nbformat_minor": 2
}
